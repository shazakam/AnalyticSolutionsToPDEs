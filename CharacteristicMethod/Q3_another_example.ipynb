{
 "cells": [
  {
   "cell_type": "code",
   "execution_count": null,
   "id": "7abb0041",
   "metadata": {},
   "outputs": [],
   "source": [
    "import numpy as np \n",
    "import matplotlib.pyplot as plt"
   ]
  },
  {
   "cell_type": "markdown",
   "id": "7ed9ca89",
   "metadata": {},
   "source": [
    "Lets solve the following PDE:\n",
    "\n",
    "$$\\frac{\\partial u}{\\partial t} + ux\\frac{\\partial u}{\\partial x} = u$$\n",
    "\n",
    "With $u(x,t) > 0$ in $ t > 0$ with the initial condition, $u = x$ when $t = 0$ and $0 < x < 1$\n",
    "\n",
    "Our Characteristic are given by: \n",
    "\n",
    "$$\\frac{\\partial t}{\\partial \\tau} = 1 $$\n",
    "$$\\frac{\\partial x}{\\partial \\tau} = ux $$\n",
    "$$\\frac{\\partial u}{\\partial \\tau} = u $$\n",
    "\n",
    "Using our intitial conditions we can create an initial curve $\\Gamma$ to launch our characterstics from parametrised by $s$. \n",
    "We have, $t = 0$, $x = s$, $u = s$ for our initial curve.\n",
    "\n",
    "Remember we are treating $u$, $x$ and $t$ (our projection at $s$) as functions parametrised by $\\tau$\n",
    "\n",
    "We immediately can see (using our initial condtions on our curve $\\Gamma$) $$t = \\tau $$ \n"
   ]
  },
  {
   "cell_type": "markdown",
   "id": "e1922534",
   "metadata": {},
   "source": [
    "We can easily solve for $u$,\n",
    "$$\\int \\frac{1}{u} du = \\int \\tau d \\tau $$\n",
    "$$ ln(u) + C_0 = \\tau + C_1 $$\n",
    "$$ u = e^{\\tau +C_2} $$\n",
    "$$ u = e^{t + C_2}"
   ]
  },
  {
   "cell_type": "markdown",
   "id": "554154a2",
   "metadata": {},
   "source": []
  }
 ],
 "metadata": {
  "kernelspec": {
   "display_name": "base",
   "language": "python",
   "name": "python3"
  },
  "language_info": {
   "name": "python",
   "version": "3.12.7"
  }
 },
 "nbformat": 4,
 "nbformat_minor": 5
}
