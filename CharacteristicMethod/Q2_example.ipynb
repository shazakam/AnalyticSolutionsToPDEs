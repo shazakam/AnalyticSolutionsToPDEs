{
 "cells": [
  {
   "cell_type": "markdown",
   "id": "b2e4fe7b",
   "metadata": {},
   "source": [
    "# Q2\n",
    "\n",
    "Consider the following, \n",
    "$$yu\\frac{\\partial u}{\\partial x} - xu\\frac{\\partial u}{\\partial y} = x - y$$"
   ]
  },
  {
   "cell_type": "markdown",
   "id": "2a3903c0",
   "metadata": {},
   "source": [
    "The characteristic equations for the above are,\n",
    "\n",
    "$$ \\frac{dx}{d\\tau} = yu$$\n",
    "\n",
    "$$ \\frac{dy}{d\\tau} = -xu$$\n",
    "\n",
    "$$ \\frac{du}{d\\tau} = x - y$$\n",
    "\n",
    "These can be rearranged to give, \n",
    "$$\\frac{dx}{yu} = - \\frac{dy}{xu} = \\frac{du}{x-y}$$"
   ]
  },
  {
   "cell_type": "markdown",
   "id": "c87d2cb8",
   "metadata": {},
   "source": [
    "We can start with noting that if we have \n",
    "$$\\frac{dx}{yu} = - \\frac{dy}{xu}$$\n",
    "\n",
    "We get after rearranging, \n",
    "$$x dx = -y dy$$\n",
    "Integrating over $dx$ and $dy$ we get \n",
    "$$\\frac{1}{2}x^{2} + C_0 = -\\frac{1}{2}y^{2}+C_1$$\n",
    "Hence,\n",
    "$$x^2 + y^2 = K$$\n",
    "\n",
    "$$\\frac{d}{d\\tau}(x^2 + y^2) = 0$$\n",
    "Where K is some constant."
   ]
  },
  {
   "cell_type": "markdown",
   "id": "66b4076b",
   "metadata": {},
   "source": [
    "For the next part we can look at,\n",
    "$$(y-x)dy = xudu$$\n",
    "$$(x-y)dy = -xudu$$\n",
    "and \n",
    "$$(x-y)dx = yudu$$\n",
    "\n",
    "Summing these together give,\n",
    "\n",
    "$$(x-y)dx + (x-y)dy = -u(x-y)du$$\n",
    "$$dx + dy = -udu$$\n",
    "$$x + y + C_0 = -\\frac{1}{2}u^2 + C_1$$\n",
    "$$u^2 = -2x - 2y + C_3$$\n"
   ]
  },
  {
   "cell_type": "markdown",
   "id": "a0605da8",
   "metadata": {},
   "source": [
    "Hence a general solution (as $x^2+y^2$ is constant) takes the form,\n",
    "$$u^2 = -2x-2y+F(x^2+y^2)$$"
   ]
  }
 ],
 "metadata": {
  "language_info": {
   "name": "python"
  }
 },
 "nbformat": 4,
 "nbformat_minor": 5
}
